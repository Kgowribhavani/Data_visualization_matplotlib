{
  "nbformat": 4,
  "nbformat_minor": 0,
  "metadata": {
    "colab": {
      "provenance": []
    },
    "kernelspec": {
      "name": "python3",
      "display_name": "Python 3"
    },
    "language_info": {
      "name": "python"
    }
  },
  "cells": [
    {
      "cell_type": "markdown",
      "source": [
        "#Visualization on Telcon Customer Churn dataset using matplotlib"
      ],
      "metadata": {
        "id": "AZ0wOBEOjSyZ"
      }
    },
    {
      "cell_type": "markdown",
      "source": [
        "## Purpose of the project "
      ],
      "metadata": {
        "id": "bhLPsMhJl-gC"
      }
    },
    {
      "cell_type": "markdown",
      "source": [
        "The purpose of the project is to convert the given dataset into a graphical(graphs) using matplotlib"
      ],
      "metadata": {
        "id": "C0kwg893mDjv"
      }
    },
    {
      "cell_type": "markdown",
      "source": [
        "## What graphical methods are used ?"
      ],
      "metadata": {
        "id": "tyOqv08wmc2X"
      }
    },
    {
      "cell_type": "markdown",
      "source": [
        "Bar chart,\n",
        "\n",
        "Histogram,\n",
        "\n",
        "Scatter Plot,\n",
        "\n",
        "Box Plot \n",
        "\n",
        "These set of graphs are used in this project"
      ],
      "metadata": {
        "id": "MJwSAzvNn9Hv"
      }
    },
    {
      "cell_type": "markdown",
      "source": [
        "- Data manipulations using pandas and numpy below"
      ],
      "metadata": {
        "id": "RxITto67VwW_"
      }
    },
    {
      "cell_type": "code",
      "source": [
        "#mounting the google colab to drive to take dataset (csv file)\n",
        "from google.colab import drive\n",
        "drive.mount('/content/drive')"
      ],
      "metadata": {
        "colab": {
          "base_uri": "https://localhost:8080/"
        },
        "id": "NjmgruN6IPg9",
        "outputId": "eae8215c-3e52-4d82-8776-961cb82cc016"
      },
      "execution_count": 6,
      "outputs": [
        {
          "output_type": "stream",
          "name": "stdout",
          "text": [
            "Drive already mounted at /content/drive; to attempt to forcibly remount, call drive.mount(\"/content/drive\", force_remount=True).\n"
          ]
        }
      ]
    },
    {
      "cell_type": "code",
      "source": [
        "%cd '/content/drive/My Drive'"
      ],
      "metadata": {
        "colab": {
          "base_uri": "https://localhost:8080/"
        },
        "id": "imeIQIy2Iev0",
        "outputId": "95c1c5a2-a905-4848-83bb-2de3a7dddf99"
      },
      "execution_count": 7,
      "outputs": [
        {
          "output_type": "stream",
          "name": "stdout",
          "text": [
            "/content/drive/My Drive\n"
          ]
        }
      ]
    },
    {
      "cell_type": "code",
      "source": [
        "import numpy as np\n",
        "import pandas as pd"
      ],
      "metadata": {
        "id": "1rf6sdPalFGh"
      },
      "execution_count": 3,
      "outputs": []
    },
    {
      "cell_type": "code",
      "source": [
        "#to read the csv file\n",
        "telco_cc= pd.read_csv('Telco-Customer-Churn.csv')"
      ],
      "metadata": {
        "id": "fhWezxIYIeld"
      },
      "execution_count": 14,
      "outputs": []
    },
    {
      "cell_type": "code",
      "source": [
        "telco_cc.head()"
      ],
      "metadata": {
        "colab": {
          "base_uri": "https://localhost:8080/",
          "height": 386
        },
        "id": "xSN8yXu7Qco2",
        "outputId": "212ed35a-9b16-4841-bc54-c11317957c47"
      },
      "execution_count": 15,
      "outputs": [
        {
          "output_type": "execute_result",
          "data": {
            "text/plain": [
              "   customerID  gender  SeniorCitizen Partner Dependents  tenure PhoneService  \\\n",
              "0  7590-VHVEG  Female              0     Yes         No       1           No   \n",
              "1  5575-GNVDE    Male              0      No         No      34          Yes   \n",
              "2  3668-QPYBK    Male              0      No         No       2          Yes   \n",
              "3  7795-CFOCW    Male              0      No         No      45           No   \n",
              "4  9237-HQITU  Female              0      No         No       2          Yes   \n",
              "\n",
              "      MultipleLines InternetService OnlineSecurity  ... DeviceProtection  \\\n",
              "0  No phone service             DSL             No  ...               No   \n",
              "1                No             DSL            Yes  ...              Yes   \n",
              "2                No             DSL            Yes  ...               No   \n",
              "3  No phone service             DSL            Yes  ...              Yes   \n",
              "4                No     Fiber optic             No  ...               No   \n",
              "\n",
              "  TechSupport StreamingTV StreamingMovies        Contract PaperlessBilling  \\\n",
              "0          No          No              No  Month-to-month              Yes   \n",
              "1          No          No              No        One year               No   \n",
              "2          No          No              No  Month-to-month              Yes   \n",
              "3         Yes          No              No        One year               No   \n",
              "4          No          No              No  Month-to-month              Yes   \n",
              "\n",
              "               PaymentMethod MonthlyCharges  TotalCharges Churn  \n",
              "0           Electronic check          29.85         29.85    No  \n",
              "1               Mailed check          56.95        1889.5    No  \n",
              "2               Mailed check          53.85        108.15   Yes  \n",
              "3  Bank transfer (automatic)          42.30       1840.75    No  \n",
              "4           Electronic check          70.70        151.65   Yes  \n",
              "\n",
              "[5 rows x 21 columns]"
            ],
            "text/html": [
              "\n",
              "  <div id=\"df-169685a3-57d6-4589-bbf1-a6bf5b1723db\">\n",
              "    <div class=\"colab-df-container\">\n",
              "      <div>\n",
              "<style scoped>\n",
              "    .dataframe tbody tr th:only-of-type {\n",
              "        vertical-align: middle;\n",
              "    }\n",
              "\n",
              "    .dataframe tbody tr th {\n",
              "        vertical-align: top;\n",
              "    }\n",
              "\n",
              "    .dataframe thead th {\n",
              "        text-align: right;\n",
              "    }\n",
              "</style>\n",
              "<table border=\"1\" class=\"dataframe\">\n",
              "  <thead>\n",
              "    <tr style=\"text-align: right;\">\n",
              "      <th></th>\n",
              "      <th>customerID</th>\n",
              "      <th>gender</th>\n",
              "      <th>SeniorCitizen</th>\n",
              "      <th>Partner</th>\n",
              "      <th>Dependents</th>\n",
              "      <th>tenure</th>\n",
              "      <th>PhoneService</th>\n",
              "      <th>MultipleLines</th>\n",
              "      <th>InternetService</th>\n",
              "      <th>OnlineSecurity</th>\n",
              "      <th>...</th>\n",
              "      <th>DeviceProtection</th>\n",
              "      <th>TechSupport</th>\n",
              "      <th>StreamingTV</th>\n",
              "      <th>StreamingMovies</th>\n",
              "      <th>Contract</th>\n",
              "      <th>PaperlessBilling</th>\n",
              "      <th>PaymentMethod</th>\n",
              "      <th>MonthlyCharges</th>\n",
              "      <th>TotalCharges</th>\n",
              "      <th>Churn</th>\n",
              "    </tr>\n",
              "  </thead>\n",
              "  <tbody>\n",
              "    <tr>\n",
              "      <th>0</th>\n",
              "      <td>7590-VHVEG</td>\n",
              "      <td>Female</td>\n",
              "      <td>0</td>\n",
              "      <td>Yes</td>\n",
              "      <td>No</td>\n",
              "      <td>1</td>\n",
              "      <td>No</td>\n",
              "      <td>No phone service</td>\n",
              "      <td>DSL</td>\n",
              "      <td>No</td>\n",
              "      <td>...</td>\n",
              "      <td>No</td>\n",
              "      <td>No</td>\n",
              "      <td>No</td>\n",
              "      <td>No</td>\n",
              "      <td>Month-to-month</td>\n",
              "      <td>Yes</td>\n",
              "      <td>Electronic check</td>\n",
              "      <td>29.85</td>\n",
              "      <td>29.85</td>\n",
              "      <td>No</td>\n",
              "    </tr>\n",
              "    <tr>\n",
              "      <th>1</th>\n",
              "      <td>5575-GNVDE</td>\n",
              "      <td>Male</td>\n",
              "      <td>0</td>\n",
              "      <td>No</td>\n",
              "      <td>No</td>\n",
              "      <td>34</td>\n",
              "      <td>Yes</td>\n",
              "      <td>No</td>\n",
              "      <td>DSL</td>\n",
              "      <td>Yes</td>\n",
              "      <td>...</td>\n",
              "      <td>Yes</td>\n",
              "      <td>No</td>\n",
              "      <td>No</td>\n",
              "      <td>No</td>\n",
              "      <td>One year</td>\n",
              "      <td>No</td>\n",
              "      <td>Mailed check</td>\n",
              "      <td>56.95</td>\n",
              "      <td>1889.5</td>\n",
              "      <td>No</td>\n",
              "    </tr>\n",
              "    <tr>\n",
              "      <th>2</th>\n",
              "      <td>3668-QPYBK</td>\n",
              "      <td>Male</td>\n",
              "      <td>0</td>\n",
              "      <td>No</td>\n",
              "      <td>No</td>\n",
              "      <td>2</td>\n",
              "      <td>Yes</td>\n",
              "      <td>No</td>\n",
              "      <td>DSL</td>\n",
              "      <td>Yes</td>\n",
              "      <td>...</td>\n",
              "      <td>No</td>\n",
              "      <td>No</td>\n",
              "      <td>No</td>\n",
              "      <td>No</td>\n",
              "      <td>Month-to-month</td>\n",
              "      <td>Yes</td>\n",
              "      <td>Mailed check</td>\n",
              "      <td>53.85</td>\n",
              "      <td>108.15</td>\n",
              "      <td>Yes</td>\n",
              "    </tr>\n",
              "    <tr>\n",
              "      <th>3</th>\n",
              "      <td>7795-CFOCW</td>\n",
              "      <td>Male</td>\n",
              "      <td>0</td>\n",
              "      <td>No</td>\n",
              "      <td>No</td>\n",
              "      <td>45</td>\n",
              "      <td>No</td>\n",
              "      <td>No phone service</td>\n",
              "      <td>DSL</td>\n",
              "      <td>Yes</td>\n",
              "      <td>...</td>\n",
              "      <td>Yes</td>\n",
              "      <td>Yes</td>\n",
              "      <td>No</td>\n",
              "      <td>No</td>\n",
              "      <td>One year</td>\n",
              "      <td>No</td>\n",
              "      <td>Bank transfer (automatic)</td>\n",
              "      <td>42.30</td>\n",
              "      <td>1840.75</td>\n",
              "      <td>No</td>\n",
              "    </tr>\n",
              "    <tr>\n",
              "      <th>4</th>\n",
              "      <td>9237-HQITU</td>\n",
              "      <td>Female</td>\n",
              "      <td>0</td>\n",
              "      <td>No</td>\n",
              "      <td>No</td>\n",
              "      <td>2</td>\n",
              "      <td>Yes</td>\n",
              "      <td>No</td>\n",
              "      <td>Fiber optic</td>\n",
              "      <td>No</td>\n",
              "      <td>...</td>\n",
              "      <td>No</td>\n",
              "      <td>No</td>\n",
              "      <td>No</td>\n",
              "      <td>No</td>\n",
              "      <td>Month-to-month</td>\n",
              "      <td>Yes</td>\n",
              "      <td>Electronic check</td>\n",
              "      <td>70.70</td>\n",
              "      <td>151.65</td>\n",
              "      <td>Yes</td>\n",
              "    </tr>\n",
              "  </tbody>\n",
              "</table>\n",
              "<p>5 rows × 21 columns</p>\n",
              "</div>\n",
              "      <button class=\"colab-df-convert\" onclick=\"convertToInteractive('df-169685a3-57d6-4589-bbf1-a6bf5b1723db')\"\n",
              "              title=\"Convert this dataframe to an interactive table.\"\n",
              "              style=\"display:none;\">\n",
              "        \n",
              "  <svg xmlns=\"http://www.w3.org/2000/svg\" height=\"24px\"viewBox=\"0 0 24 24\"\n",
              "       width=\"24px\">\n",
              "    <path d=\"M0 0h24v24H0V0z\" fill=\"none\"/>\n",
              "    <path d=\"M18.56 5.44l.94 2.06.94-2.06 2.06-.94-2.06-.94-.94-2.06-.94 2.06-2.06.94zm-11 1L8.5 8.5l.94-2.06 2.06-.94-2.06-.94L8.5 2.5l-.94 2.06-2.06.94zm10 10l.94 2.06.94-2.06 2.06-.94-2.06-.94-.94-2.06-.94 2.06-2.06.94z\"/><path d=\"M17.41 7.96l-1.37-1.37c-.4-.4-.92-.59-1.43-.59-.52 0-1.04.2-1.43.59L10.3 9.45l-7.72 7.72c-.78.78-.78 2.05 0 2.83L4 21.41c.39.39.9.59 1.41.59.51 0 1.02-.2 1.41-.59l7.78-7.78 2.81-2.81c.8-.78.8-2.07 0-2.86zM5.41 20L4 18.59l7.72-7.72 1.47 1.35L5.41 20z\"/>\n",
              "  </svg>\n",
              "      </button>\n",
              "      \n",
              "  <style>\n",
              "    .colab-df-container {\n",
              "      display:flex;\n",
              "      flex-wrap:wrap;\n",
              "      gap: 12px;\n",
              "    }\n",
              "\n",
              "    .colab-df-convert {\n",
              "      background-color: #E8F0FE;\n",
              "      border: none;\n",
              "      border-radius: 50%;\n",
              "      cursor: pointer;\n",
              "      display: none;\n",
              "      fill: #1967D2;\n",
              "      height: 32px;\n",
              "      padding: 0 0 0 0;\n",
              "      width: 32px;\n",
              "    }\n",
              "\n",
              "    .colab-df-convert:hover {\n",
              "      background-color: #E2EBFA;\n",
              "      box-shadow: 0px 1px 2px rgba(60, 64, 67, 0.3), 0px 1px 3px 1px rgba(60, 64, 67, 0.15);\n",
              "      fill: #174EA6;\n",
              "    }\n",
              "\n",
              "    [theme=dark] .colab-df-convert {\n",
              "      background-color: #3B4455;\n",
              "      fill: #D2E3FC;\n",
              "    }\n",
              "\n",
              "    [theme=dark] .colab-df-convert:hover {\n",
              "      background-color: #434B5C;\n",
              "      box-shadow: 0px 1px 3px 1px rgba(0, 0, 0, 0.15);\n",
              "      filter: drop-shadow(0px 1px 2px rgba(0, 0, 0, 0.3));\n",
              "      fill: #FFFFFF;\n",
              "    }\n",
              "  </style>\n",
              "\n",
              "      <script>\n",
              "        const buttonEl =\n",
              "          document.querySelector('#df-169685a3-57d6-4589-bbf1-a6bf5b1723db button.colab-df-convert');\n",
              "        buttonEl.style.display =\n",
              "          google.colab.kernel.accessAllowed ? 'block' : 'none';\n",
              "\n",
              "        async function convertToInteractive(key) {\n",
              "          const element = document.querySelector('#df-169685a3-57d6-4589-bbf1-a6bf5b1723db');\n",
              "          const dataTable =\n",
              "            await google.colab.kernel.invokeFunction('convertToInteractive',\n",
              "                                                     [key], {});\n",
              "          if (!dataTable) return;\n",
              "\n",
              "          const docLinkHtml = 'Like what you see? Visit the ' +\n",
              "            '<a target=\"_blank\" href=https://colab.research.google.com/notebooks/data_table.ipynb>data table notebook</a>'\n",
              "            + ' to learn more about interactive tables.';\n",
              "          element.innerHTML = '';\n",
              "          dataTable['output_type'] = 'display_data';\n",
              "          await google.colab.output.renderOutput(dataTable, element);\n",
              "          const docLink = document.createElement('div');\n",
              "          docLink.innerHTML = docLinkHtml;\n",
              "          element.appendChild(docLink);\n",
              "        }\n",
              "      </script>\n",
              "    </div>\n",
              "  </div>\n",
              "  "
            ]
          },
          "metadata": {},
          "execution_count": 15
        }
      ]
    },
    {
      "cell_type": "code",
      "source": [
        "telco_cc.describe()"
      ],
      "metadata": {
        "colab": {
          "base_uri": "https://localhost:8080/",
          "height": 300
        },
        "id": "djNczESR0O7E",
        "outputId": "bbdb7ec6-d42a-49d3-9687-aadaef3c76d9"
      },
      "execution_count": 21,
      "outputs": [
        {
          "output_type": "execute_result",
          "data": {
            "text/plain": [
              "       SeniorCitizen       tenure  MonthlyCharges\n",
              "count    7043.000000  7043.000000     7043.000000\n",
              "mean        0.162147    32.371149       64.761692\n",
              "std         0.368612    24.559481       30.090047\n",
              "min         0.000000     0.000000       18.250000\n",
              "25%         0.000000     9.000000       35.500000\n",
              "50%         0.000000    29.000000       70.350000\n",
              "75%         0.000000    55.000000       89.850000\n",
              "max         1.000000    72.000000      118.750000"
            ],
            "text/html": [
              "\n",
              "  <div id=\"df-d714897b-8c19-4fb4-a89e-49ce075b3fa9\">\n",
              "    <div class=\"colab-df-container\">\n",
              "      <div>\n",
              "<style scoped>\n",
              "    .dataframe tbody tr th:only-of-type {\n",
              "        vertical-align: middle;\n",
              "    }\n",
              "\n",
              "    .dataframe tbody tr th {\n",
              "        vertical-align: top;\n",
              "    }\n",
              "\n",
              "    .dataframe thead th {\n",
              "        text-align: right;\n",
              "    }\n",
              "</style>\n",
              "<table border=\"1\" class=\"dataframe\">\n",
              "  <thead>\n",
              "    <tr style=\"text-align: right;\">\n",
              "      <th></th>\n",
              "      <th>SeniorCitizen</th>\n",
              "      <th>tenure</th>\n",
              "      <th>MonthlyCharges</th>\n",
              "    </tr>\n",
              "  </thead>\n",
              "  <tbody>\n",
              "    <tr>\n",
              "      <th>count</th>\n",
              "      <td>7043.000000</td>\n",
              "      <td>7043.000000</td>\n",
              "      <td>7043.000000</td>\n",
              "    </tr>\n",
              "    <tr>\n",
              "      <th>mean</th>\n",
              "      <td>0.162147</td>\n",
              "      <td>32.371149</td>\n",
              "      <td>64.761692</td>\n",
              "    </tr>\n",
              "    <tr>\n",
              "      <th>std</th>\n",
              "      <td>0.368612</td>\n",
              "      <td>24.559481</td>\n",
              "      <td>30.090047</td>\n",
              "    </tr>\n",
              "    <tr>\n",
              "      <th>min</th>\n",
              "      <td>0.000000</td>\n",
              "      <td>0.000000</td>\n",
              "      <td>18.250000</td>\n",
              "    </tr>\n",
              "    <tr>\n",
              "      <th>25%</th>\n",
              "      <td>0.000000</td>\n",
              "      <td>9.000000</td>\n",
              "      <td>35.500000</td>\n",
              "    </tr>\n",
              "    <tr>\n",
              "      <th>50%</th>\n",
              "      <td>0.000000</td>\n",
              "      <td>29.000000</td>\n",
              "      <td>70.350000</td>\n",
              "    </tr>\n",
              "    <tr>\n",
              "      <th>75%</th>\n",
              "      <td>0.000000</td>\n",
              "      <td>55.000000</td>\n",
              "      <td>89.850000</td>\n",
              "    </tr>\n",
              "    <tr>\n",
              "      <th>max</th>\n",
              "      <td>1.000000</td>\n",
              "      <td>72.000000</td>\n",
              "      <td>118.750000</td>\n",
              "    </tr>\n",
              "  </tbody>\n",
              "</table>\n",
              "</div>\n",
              "      <button class=\"colab-df-convert\" onclick=\"convertToInteractive('df-d714897b-8c19-4fb4-a89e-49ce075b3fa9')\"\n",
              "              title=\"Convert this dataframe to an interactive table.\"\n",
              "              style=\"display:none;\">\n",
              "        \n",
              "  <svg xmlns=\"http://www.w3.org/2000/svg\" height=\"24px\"viewBox=\"0 0 24 24\"\n",
              "       width=\"24px\">\n",
              "    <path d=\"M0 0h24v24H0V0z\" fill=\"none\"/>\n",
              "    <path d=\"M18.56 5.44l.94 2.06.94-2.06 2.06-.94-2.06-.94-.94-2.06-.94 2.06-2.06.94zm-11 1L8.5 8.5l.94-2.06 2.06-.94-2.06-.94L8.5 2.5l-.94 2.06-2.06.94zm10 10l.94 2.06.94-2.06 2.06-.94-2.06-.94-.94-2.06-.94 2.06-2.06.94z\"/><path d=\"M17.41 7.96l-1.37-1.37c-.4-.4-.92-.59-1.43-.59-.52 0-1.04.2-1.43.59L10.3 9.45l-7.72 7.72c-.78.78-.78 2.05 0 2.83L4 21.41c.39.39.9.59 1.41.59.51 0 1.02-.2 1.41-.59l7.78-7.78 2.81-2.81c.8-.78.8-2.07 0-2.86zM5.41 20L4 18.59l7.72-7.72 1.47 1.35L5.41 20z\"/>\n",
              "  </svg>\n",
              "      </button>\n",
              "      \n",
              "  <style>\n",
              "    .colab-df-container {\n",
              "      display:flex;\n",
              "      flex-wrap:wrap;\n",
              "      gap: 12px;\n",
              "    }\n",
              "\n",
              "    .colab-df-convert {\n",
              "      background-color: #E8F0FE;\n",
              "      border: none;\n",
              "      border-radius: 50%;\n",
              "      cursor: pointer;\n",
              "      display: none;\n",
              "      fill: #1967D2;\n",
              "      height: 32px;\n",
              "      padding: 0 0 0 0;\n",
              "      width: 32px;\n",
              "    }\n",
              "\n",
              "    .colab-df-convert:hover {\n",
              "      background-color: #E2EBFA;\n",
              "      box-shadow: 0px 1px 2px rgba(60, 64, 67, 0.3), 0px 1px 3px 1px rgba(60, 64, 67, 0.15);\n",
              "      fill: #174EA6;\n",
              "    }\n",
              "\n",
              "    [theme=dark] .colab-df-convert {\n",
              "      background-color: #3B4455;\n",
              "      fill: #D2E3FC;\n",
              "    }\n",
              "\n",
              "    [theme=dark] .colab-df-convert:hover {\n",
              "      background-color: #434B5C;\n",
              "      box-shadow: 0px 1px 3px 1px rgba(0, 0, 0, 0.15);\n",
              "      filter: drop-shadow(0px 1px 2px rgba(0, 0, 0, 0.3));\n",
              "      fill: #FFFFFF;\n",
              "    }\n",
              "  </style>\n",
              "\n",
              "      <script>\n",
              "        const buttonEl =\n",
              "          document.querySelector('#df-d714897b-8c19-4fb4-a89e-49ce075b3fa9 button.colab-df-convert');\n",
              "        buttonEl.style.display =\n",
              "          google.colab.kernel.accessAllowed ? 'block' : 'none';\n",
              "\n",
              "        async function convertToInteractive(key) {\n",
              "          const element = document.querySelector('#df-d714897b-8c19-4fb4-a89e-49ce075b3fa9');\n",
              "          const dataTable =\n",
              "            await google.colab.kernel.invokeFunction('convertToInteractive',\n",
              "                                                     [key], {});\n",
              "          if (!dataTable) return;\n",
              "\n",
              "          const docLinkHtml = 'Like what you see? Visit the ' +\n",
              "            '<a target=\"_blank\" href=https://colab.research.google.com/notebooks/data_table.ipynb>data table notebook</a>'\n",
              "            + ' to learn more about interactive tables.';\n",
              "          element.innerHTML = '';\n",
              "          dataTable['output_type'] = 'display_data';\n",
              "          await google.colab.output.renderOutput(dataTable, element);\n",
              "          const docLink = document.createElement('div');\n",
              "          docLink.innerHTML = docLinkHtml;\n",
              "          element.appendChild(docLink);\n",
              "        }\n",
              "      </script>\n",
              "    </div>\n",
              "  </div>\n",
              "  "
            ]
          },
          "metadata": {},
          "execution_count": 21
        }
      ]
    },
    {
      "cell_type": "code",
      "source": [
        "#extracting 5th row\n",
        "row_5=telco_cc.iloc[:,5]"
      ],
      "metadata": {
        "id": "oCebxG_KIea_"
      },
      "execution_count": 17,
      "outputs": []
    },
    {
      "cell_type": "code",
      "source": [
        "print(row_5)"
      ],
      "metadata": {
        "colab": {
          "base_uri": "https://localhost:8080/"
        },
        "id": "sSCmuQTHIeQf",
        "outputId": "03b9c911-ddc4-4dcc-bbaa-85de29e05b1d"
      },
      "execution_count": 18,
      "outputs": [
        {
          "output_type": "stream",
          "name": "stdout",
          "text": [
            "0        1\n",
            "1       34\n",
            "2        2\n",
            "3       45\n",
            "4        2\n",
            "        ..\n",
            "7038    24\n",
            "7039    72\n",
            "7040    11\n",
            "7041     4\n",
            "7042    66\n",
            "Name: tenure, Length: 7043, dtype: int64\n"
          ]
        }
      ]
    },
    {
      "cell_type": "code",
      "source": [
        "# Extracting 5th column\n",
        "column_5=telco_cc.iloc[5,:]"
      ],
      "metadata": {
        "id": "ILQsKANlkVos"
      },
      "execution_count": 19,
      "outputs": []
    },
    {
      "cell_type": "code",
      "source": [
        "print(column_5)"
      ],
      "metadata": {
        "colab": {
          "base_uri": "https://localhost:8080/"
        },
        "id": "YeJDffZvlCZJ",
        "outputId": "5c0872cd-3714-423a-e53a-bcb930133912"
      },
      "execution_count": 20,
      "outputs": [
        {
          "output_type": "stream",
          "name": "stdout",
          "text": [
            "customerID                9305-CDSKC\n",
            "gender                        Female\n",
            "SeniorCitizen                      0\n",
            "Partner                           No\n",
            "Dependents                        No\n",
            "tenure                             8\n",
            "PhoneService                     Yes\n",
            "MultipleLines                    Yes\n",
            "InternetService          Fiber optic\n",
            "OnlineSecurity                    No\n",
            "OnlineBackup                      No\n",
            "DeviceProtection                 Yes\n",
            "TechSupport                       No\n",
            "StreamingTV                      Yes\n",
            "StreamingMovies                  Yes\n",
            "Contract              Month-to-month\n",
            "PaperlessBilling                 Yes\n",
            "PaymentMethod       Electronic check\n",
            "MonthlyCharges                 99.65\n",
            "TotalCharges                   820.5\n",
            "Churn                            Yes\n",
            "Name: 5, dtype: object\n"
          ]
        }
      ]
    },
    {
      "cell_type": "code",
      "source": [
        "# collecting data hows gender and senior citizens and there PaymentMethod(using AND operator)\n",
        "data1=telco_cc[(telco_cc['gender']=='Male') & (telco_cc['SeniorCitizen']==1) &(telco_cc['PaymentMethod']=='Electronic check')]\n",
        "print(data1.head())"
      ],
      "metadata": {
        "id": "o0HtK3nUJSE-",
        "colab": {
          "base_uri": "https://localhost:8080/"
        },
        "outputId": "4bf4c40e-8497-42d1-b4ee-88a21a53370b"
      },
      "execution_count": 68,
      "outputs": [
        {
          "output_type": "stream",
          "name": "stdout",
          "text": [
            "    customerID gender  SeniorCitizen Partner Dependents  tenure PhoneService  \\\n",
            "20  8779-QRDMV   Male              1      No         No       1           No   \n",
            "55  1658-BYGOY   Male              1      No         No      18          Yes   \n",
            "57  5067-XJQFU   Male              1     Yes        Yes      66          Yes   \n",
            "78  0191-ZHSKZ   Male              1      No         No      30          Yes   \n",
            "91  2424-WVHPL   Male              1      No         No       1          Yes   \n",
            "\n",
            "       MultipleLines InternetService OnlineSecurity  ... DeviceProtection  \\\n",
            "20  No phone service             DSL             No  ...              Yes   \n",
            "55               Yes     Fiber optic             No  ...               No   \n",
            "57               Yes     Fiber optic             No  ...              Yes   \n",
            "78                No             DSL            Yes  ...               No   \n",
            "91                No     Fiber optic             No  ...               No   \n",
            "\n",
            "   TechSupport StreamingTV StreamingMovies        Contract PaperlessBilling  \\\n",
            "20          No          No             Yes  Month-to-month              Yes   \n",
            "55          No         Yes             Yes  Month-to-month              Yes   \n",
            "57         Yes         Yes             Yes        One year              Yes   \n",
            "78          No         Yes             Yes  Month-to-month              Yes   \n",
            "91         Yes          No              No  Month-to-month               No   \n",
            "\n",
            "       PaymentMethod MonthlyCharges  TotalCharges Churn  \n",
            "20  Electronic check          39.65         39.65   Yes  \n",
            "55  Electronic check          95.45       1752.55   Yes  \n",
            "57  Electronic check         108.45       7076.35    No  \n",
            "78  Electronic check          74.75        2111.3    No  \n",
            "91  Electronic check          74.70          74.7    No  \n",
            "\n",
            "[5 rows x 21 columns]\n"
          ]
        }
      ]
    },
    {
      "cell_type": "code",
      "source": [
        "# collecting data of tenure is above 70 or MonthlyCharges more than 1000(using 'OR operator)\n",
        "data2=telco_cc[(telco_cc['tenure']>70) | (telco_cc[\"MonthlyCharges\"]>1000)]\n",
        "print(data2.head())"
      ],
      "metadata": {
        "id": "_v6uzHigO19x",
        "colab": {
          "base_uri": "https://localhost:8080/"
        },
        "outputId": "6826032a-150f-4b55-b649-ed611f721c6f"
      },
      "execution_count": 65,
      "outputs": [
        {
          "output_type": "stream",
          "name": "stdout",
          "text": [
            "    customerID  gender  SeniorCitizen Partner Dependents  tenure PhoneService  \\\n",
            "17  9959-WOFKT    Male              0      No        Yes      71          Yes   \n",
            "28  5248-YGIJN    Male              0     Yes         No      72          Yes   \n",
            "30  3841-NFECX  Female              1     Yes         No      71          Yes   \n",
            "35  6234-RAAPL  Female              0     Yes        Yes      72          Yes   \n",
            "59  5954-BDFSG  Female              0      No         No      72          Yes   \n",
            "\n",
            "   MultipleLines InternetService OnlineSecurity  ... DeviceProtection  \\\n",
            "17           Yes     Fiber optic            Yes  ...              Yes   \n",
            "28           Yes             DSL            Yes  ...              Yes   \n",
            "30           Yes     Fiber optic            Yes  ...              Yes   \n",
            "35           Yes     Fiber optic            Yes  ...               No   \n",
            "59           Yes     Fiber optic             No  ...              Yes   \n",
            "\n",
            "   TechSupport StreamingTV StreamingMovies  Contract PaperlessBilling  \\\n",
            "17          No         Yes             Yes  Two year               No   \n",
            "28         Yes         Yes             Yes  Two year              Yes   \n",
            "30         Yes          No              No  Two year              Yes   \n",
            "35         Yes         Yes              No  Two year               No   \n",
            "59         Yes         Yes             Yes  Two year              Yes   \n",
            "\n",
            "                PaymentMethod MonthlyCharges  TotalCharges Churn  \n",
            "17  Bank transfer (automatic)         106.70       7382.25    No  \n",
            "28    Credit card (automatic)          90.25       6369.45    No  \n",
            "30    Credit card (automatic)          96.35       6766.95    No  \n",
            "35  Bank transfer (automatic)          99.90        7251.7    No  \n",
            "59    Credit card (automatic)         107.50        7853.7    No  \n",
            "\n",
            "[5 rows x 21 columns]\n"
          ]
        }
      ]
    },
    {
      "cell_type": "code",
      "source": [
        "#collecting data of Contract is equal to two year. \n",
        "#PaymentMethod is equal to Mailed Check.\n",
        "#Churn is equal to yes(using AND operations)\n",
        "data3=telco_cc[(telco_cc['Contract']==\"Two year\") & (telco_cc[\"PaymentMethod\"]==\"Mailed check\") & (telco_cc[\"Churn\"]=='Yes')]\n",
        "print(data3.head())"
      ],
      "metadata": {
        "colab": {
          "base_uri": "https://localhost:8080/"
        },
        "id": "BuwJot3BQUKq",
        "outputId": "224226b7-0858-4a01-be7d-7f0431114401"
      },
      "execution_count": 69,
      "outputs": [
        {
          "output_type": "stream",
          "name": "stdout",
          "text": [
            "      customerID  gender  SeniorCitizen Partner Dependents  tenure  \\\n",
            "268   6323-AYBRX    Male              0      No         No      59   \n",
            "5947  7951-QKZPL  Female              0     Yes        Yes      33   \n",
            "6680  9412-ARGBX  Female              0      No        Yes      48   \n",
            "\n",
            "     PhoneService MultipleLines InternetService       OnlineSecurity  ...  \\\n",
            "268           Yes            No              No  No internet service  ...   \n",
            "5947          Yes           Yes              No  No internet service  ...   \n",
            "6680          Yes            No     Fiber optic                   No  ...   \n",
            "\n",
            "         DeviceProtection          TechSupport          StreamingTV  \\\n",
            "268   No internet service  No internet service  No internet service   \n",
            "5947  No internet service  No internet service  No internet service   \n",
            "6680                  Yes                  Yes                  Yes   \n",
            "\n",
            "          StreamingMovies  Contract PaperlessBilling PaymentMethod  \\\n",
            "268   No internet service  Two year               No  Mailed check   \n",
            "5947  No internet service  Two year              Yes  Mailed check   \n",
            "6680                   No  Two year              Yes  Mailed check   \n",
            "\n",
            "     MonthlyCharges  TotalCharges Churn  \n",
            "268           19.35        1099.6   Yes  \n",
            "5947          24.50         740.3   Yes  \n",
            "6680          95.50       4627.85   Yes  \n",
            "\n",
            "[3 rows x 21 columns]\n"
          ]
        }
      ]
    },
    {
      "cell_type": "code",
      "source": [
        "# sample it gives the random rows for every execution\n",
        "row_333=telco_cc.sample(n=333)"
      ],
      "metadata": {
        "id": "pyATgoKhUBHh"
      },
      "execution_count": 66,
      "outputs": []
    },
    {
      "cell_type": "code",
      "source": [
        "print(row_333)"
      ],
      "metadata": {
        "id": "WNH2-HaiqsdZ",
        "colab": {
          "base_uri": "https://localhost:8080/"
        },
        "outputId": "6f902ff0-5905-4d0e-c0a0-7ab9be7fd580"
      },
      "execution_count": 70,
      "outputs": [
        {
          "output_type": "stream",
          "name": "stdout",
          "text": [
            "      customerID  gender  SeniorCitizen Partner Dependents  tenure  \\\n",
            "3858  0840-DCNZE    Male              0      No         No      47   \n",
            "1660  1171-TYKUR    Male              0     Yes         No      47   \n",
            "6511  5135-RDDQL  Female              0     Yes        Yes      63   \n",
            "6837  6229-LSCKB    Male              1      No         No       6   \n",
            "6949  3648-GZPHF    Male              0     Yes        Yes      32   \n",
            "...          ...     ...            ...     ...        ...     ...   \n",
            "2282  1587-FKLZB    Male              1     Yes        Yes      66   \n",
            "2406  7548-SEPYI  Female              0      No         No       5   \n",
            "459   1452-VOQCH    Male              0      No         No       1   \n",
            "5170  7721-DVEKZ  Female              0      No         No       1   \n",
            "6145  5010-IPEAQ  Female              0     Yes        Yes      67   \n",
            "\n",
            "     PhoneService     MultipleLines InternetService       OnlineSecurity  ...  \\\n",
            "3858          Yes                No             DSL                  Yes  ...   \n",
            "1660          Yes               Yes              No  No internet service  ...   \n",
            "6511          Yes                No             DSL                  Yes  ...   \n",
            "6837          Yes                No     Fiber optic                   No  ...   \n",
            "6949           No  No phone service             DSL                   No  ...   \n",
            "...           ...               ...             ...                  ...  ...   \n",
            "2282          Yes               Yes     Fiber optic                   No  ...   \n",
            "2406          Yes                No     Fiber optic                   No  ...   \n",
            "459           Yes               Yes     Fiber optic                   No  ...   \n",
            "5170          Yes                No              No  No internet service  ...   \n",
            "6145           No  No phone service             DSL                  Yes  ...   \n",
            "\n",
            "         DeviceProtection          TechSupport          StreamingTV  \\\n",
            "3858                  Yes                  Yes                  Yes   \n",
            "1660  No internet service  No internet service  No internet service   \n",
            "6511                   No                   No                   No   \n",
            "6837                   No                   No                  Yes   \n",
            "6949                  Yes                  Yes                   No   \n",
            "...                   ...                  ...                  ...   \n",
            "2282                  Yes                   No                  Yes   \n",
            "2406                   No                   No                  Yes   \n",
            "459                    No                   No                   No   \n",
            "5170  No internet service  No internet service  No internet service   \n",
            "6145                  Yes                  Yes                  Yes   \n",
            "\n",
            "          StreamingMovies        Contract PaperlessBilling  \\\n",
            "3858                  Yes        One year              Yes   \n",
            "1660  No internet service  Month-to-month               No   \n",
            "6511                   No        Two year              Yes   \n",
            "6837                   No  Month-to-month              Yes   \n",
            "6949                   No        One year              Yes   \n",
            "...                   ...             ...              ...   \n",
            "2282                  Yes  Month-to-month              Yes   \n",
            "2406                  Yes  Month-to-month              Yes   \n",
            "459                    No  Month-to-month              Yes   \n",
            "5170  No internet service  Month-to-month               No   \n",
            "6145                   No        Two year               No   \n",
            "\n",
            "                  PaymentMethod MonthlyCharges  TotalCharges Churn  \n",
            "3858  Bank transfer (automatic)          86.95        4138.9    No  \n",
            "1660           Electronic check          25.40        1139.2    No  \n",
            "6511  Bank transfer (automatic)          50.65       3221.25    No  \n",
            "6837           Electronic check          79.70         497.6    No  \n",
            "6949               Mailed check          36.25       1151.05    No  \n",
            "...                         ...            ...           ...   ...  \n",
            "2282    Credit card (automatic)          99.50       6822.15   Yes  \n",
            "2406           Electronic check          96.25        512.45   Yes  \n",
            "459            Electronic check          75.10          75.1    No  \n",
            "5170               Mailed check          19.65         19.65    No  \n",
            "6145    Credit card (automatic)          54.20       3623.95    No  \n",
            "\n",
            "[333 rows x 21 columns]\n"
          ]
        }
      ]
    },
    {
      "cell_type": "code",
      "source": [
        "telco_cc['Churn'].value_counts()"
      ],
      "metadata": {
        "colab": {
          "base_uri": "https://localhost:8080/"
        },
        "id": "7qY0MsqctJt4",
        "outputId": "bd263369-304f-4652-989d-29f02d6cc1a4"
      },
      "execution_count": 43,
      "outputs": [
        {
          "output_type": "execute_result",
          "data": {
            "text/plain": [
              "No     5174\n",
              "Yes    1869\n",
              "Name: Churn, dtype: int64"
            ]
          },
          "metadata": {},
          "execution_count": 43
        }
      ]
    },
    {
      "cell_type": "code",
      "source": [
        "a=telco_cc['Churn'].value_counts().keys().tolist()\n",
        "print(a)"
      ],
      "metadata": {
        "id": "Utj-DjVnt-9n",
        "colab": {
          "base_uri": "https://localhost:8080/"
        },
        "outputId": "970f7666-7b2c-4a38-db3a-d084ff645329"
      },
      "execution_count": 45,
      "outputs": [
        {
          "output_type": "execute_result",
          "data": {
            "text/plain": [
              "['No', 'Yes']"
            ]
          },
          "metadata": {},
          "execution_count": 45
        }
      ]
    },
    {
      "cell_type": "code",
      "source": [
        "b=telco_cc['Churn'].value_counts().tolist()\n",
        "print(b)"
      ],
      "metadata": {
        "id": "vjPDZdbRvBz7",
        "colab": {
          "base_uri": "https://localhost:8080/"
        },
        "outputId": "ba98a13e-75ea-41a1-9226-d902c7c22710"
      },
      "execution_count": 47,
      "outputs": [
        {
          "output_type": "execute_result",
          "data": {
            "text/plain": [
              "[5174, 1869]"
            ]
          },
          "metadata": {},
          "execution_count": 47
        }
      ]
    },
    {
      "cell_type": "markdown",
      "source": [
        "#Ploting"
      ],
      "metadata": {
        "id": "N_sjUE6d9Kj8"
      }
    },
    {
      "cell_type": "code",
      "source": [
        "import matplotlib.pyplot as plt"
      ],
      "metadata": {
        "id": "myRhWUca9J5N"
      },
      "execution_count": 48,
      "outputs": []
    },
    {
      "cell_type": "code",
      "source": [
        "a=telco_cc['InternetService'].value_counts().keys().tolist()\n",
        "print(a)"
      ],
      "metadata": {
        "colab": {
          "base_uri": "https://localhost:8080/"
        },
        "id": "P0kOf1dT8-9I",
        "outputId": "953fface-6526-43be-d925-a1dd516366d0"
      },
      "execution_count": 52,
      "outputs": [
        {
          "output_type": "execute_result",
          "data": {
            "text/plain": [
              "['Fiber optic', 'DSL', 'No']"
            ]
          },
          "metadata": {},
          "execution_count": 52
        }
      ]
    },
    {
      "cell_type": "code",
      "source": [
        "b=telco_cc['InternetService'].value_counts().tolist()\n",
        "print(b)"
      ],
      "metadata": {
        "colab": {
          "base_uri": "https://localhost:8080/"
        },
        "id": "A1TdxmpM9a8n",
        "outputId": "4d0c579d-e780-4253-a82e-0e9cc81c321c"
      },
      "execution_count": 53,
      "outputs": [
        {
          "output_type": "execute_result",
          "data": {
            "text/plain": [
              "[3096, 2421, 1526]"
            ]
          },
          "metadata": {},
          "execution_count": 53
        }
      ]
    },
    {
      "cell_type": "markdown",
      "source": [
        "##Bar Graph"
      ],
      "metadata": {
        "id": "L3tKVOQqDJy5"
      }
    },
    {
      "cell_type": "code",
      "source": [
        "plt.bar(a,b)\n",
        "plt.xlabel('Categories of internet service ')\n",
        "plt.ylabel('Count')\n",
        "plt.title('Distributions of internet service')\n",
        "plt.show()"
      ],
      "metadata": {
        "colab": {
          "base_uri": "https://localhost:8080/",
          "height": 472
        },
        "id": "k6sragB9vbeJ",
        "outputId": "55a2f3e3-7899-4c58-9d70-71e14e75b0c6"
      },
      "execution_count": 54,
      "outputs": [
        {
          "output_type": "display_data",
          "data": {
            "text/plain": [
              "<Figure size 640x480 with 1 Axes>"
            ],
            "image/png": "[encoded data removed]"
          },
          "metadata": {}
        }
      ]
    },
    {
      "cell_type": "code",
      "source": [
        "plt.rcParams[\"font.family\"] = \"sans-serif\""
      ],
      "metadata": {
        "id": "Yo5T31nvBBoY"
      },
      "execution_count": 55,
      "outputs": []
    },
    {
      "cell_type": "code",
      "source": [
        "#changing color and adding fount\n",
        "\n",
        "plt.bar(a,b,color='c')\n",
        "plt.xlabel('Categories of internet service ')\n",
        "plt.ylabel('Count')\n",
        "f1={'family':'DejaVu Sans','color':'green','size':12}\n",
        "plt.title('Distributions of internet service',fontdict=f1)\n",
        "plt.show()"
      ],
      "metadata": {
        "colab": {
          "base_uri": "https://localhost:8080/",
          "height": 472
        },
        "id": "zwh5OXy4vkc1",
        "outputId": "183be1b8-6d46-443b-f1df-3d82d084c22b"
      },
      "execution_count": 62,
      "outputs": [
        {
          "output_type": "display_data",
          "data": {
            "text/plain": [
              "<Figure size 640x480 with 1 Axes>"
            ],
            "image/png": "[encoded data removed]"
          },
          "metadata": {}
        }
      ]
    },
    {
      "cell_type": "markdown",
      "source": [
        "##Histogram"
      ],
      "metadata": {
        "id": "g8qFACu_DCSJ"
      }
    },
    {
      "cell_type": "code",
      "source": [
        "plt.hist(telco_cc['tenure'],bins=30,color='g')\n",
        "plt.title('distribution of tenure')\n",
        "plt.show()"
      ],
      "metadata": {
        "colab": {
          "base_uri": "https://localhost:8080/",
          "height": 452
        },
        "id": "MFyBVcw1vx1u",
        "outputId": "eddf2ffb-4d54-4eed-c923-701260f68a00"
      },
      "execution_count": 57,
      "outputs": [
        {
          "output_type": "display_data",
          "data": {
            "text/plain": [
              "<Figure size 640x480 with 1 Axes>"
            ],
            "image/png": "[encoded data removed]"
          },
          "metadata": {}
        }
      ]
    },
    {
      "cell_type": "markdown",
      "source": [
        "##Scatter Plot"
      ],
      "metadata": {
        "id": "_RNdJS4MC5dn"
      }
    },
    {
      "cell_type": "code",
      "source": [
        "plt.scatter(x=telco_cc['tenure'],y=telco_cc['MonthlyCharges'])\n",
        "plt.xlabel('tenure')\n",
        "plt.ylabel('monthly charges')\n",
        "plt.title('monthly charges Vs tenure')"
      ],
      "metadata": {
        "colab": {
          "base_uri": "https://localhost:8080/",
          "height": 489
        },
        "id": "zLnsaS_7x3_s",
        "outputId": "def78257-5eab-4b7b-dc0a-1e38e18d146b"
      },
      "execution_count": 59,
      "outputs": [
        {
          "output_type": "execute_result",
          "data": {
            "text/plain": [
              "Text(0.5, 1.0, 'monthly charges Vs tenure')"
            ]
          },
          "metadata": {},
          "execution_count": 59
        },
        {
          "output_type": "display_data",
          "data": {
            "text/plain": [
              "<Figure size 640x480 with 1 Axes>"
            ],
            "image/png": "[encoded data removed]"
          },
          "metadata": {}
        }
      ]
    },
    {
      "cell_type": "markdown",
      "source": [
        "##Box Plot"
      ],
      "metadata": {
        "id": "f-J9fwvcDOnB"
      }
    },
    {
      "cell_type": "code",
      "source": [
        "telco_cc.boxplot(column=['tenure'],by=['Contract'])"
      ],
      "metadata": {
        "colab": {
          "base_uri": "https://localhost:8080/",
          "height": 495
        },
        "id": "0LlR97MZ_7xa",
        "outputId": "ae66fe96-759f-4a5c-c310-3f4f64de57a5"
      },
      "execution_count": 60,
      "outputs": [
        {
          "output_type": "execute_result",
          "data": {
            "text/plain": [
              "<Axes: title={'center': 'tenure'}, xlabel='[Contract]'>"
            ]
          },
          "metadata": {},
          "execution_count": 60
        },
        {
          "output_type": "display_data",
          "data": {
            "text/plain": [
              "<Figure size 640x480 with 1 Axes>"
            ],
            "image/png": "[encoded data removed]"
          },
          "metadata": {}
        }
      ]
    },
    {
      "cell_type": "markdown",
      "source": [
        "##Conclusion"
      ],
      "metadata": {
        "id": "MzRR5Mm-ECZf"
      }
    },
    {
      "cell_type": "markdown",
      "source": [
        "Here are the Telco Customer Churn dataset manipulations using python and, visualize those data using matplotlib."
      ],
      "metadata": {
        "id": "t4rvC97QEG8u"
      }
    }
  ]
}