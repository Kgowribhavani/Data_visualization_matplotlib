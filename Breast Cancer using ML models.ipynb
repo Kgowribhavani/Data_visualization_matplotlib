{
  "nbformat": 4,
  "nbformat_minor": 0,
  "metadata": {
    "colab": {
      "provenance": []
    },
    "kernelspec": {
      "name": "python3",
      "display_name": "Python 3"
    },
    "language_info": {
      "name": "python"
    }
  },
  "cells": [
    {
      "cell_type": "markdown",
      "source": [
        "#Real-time breast cancer data using ML models"
      ],
      "metadata": {
        "id": "F1nmzlyw8mQM"
      }
    },
    {
      "cell_type": "markdown",
      "source": [
        "##Purpose of the project"
      ],
      "metadata": {
        "id": "4N2ksaj8UibR"
      }
    },
    {
      "cell_type": "markdown",
      "source": [
        "The purpose of the project is to predict \n",
        "the breast cancer using \n",
        "existing dataset."
      ],
      "metadata": {
        "id": "1p4sonjLVtaG"
      }
    },
    {
      "cell_type": "markdown",
      "source": [
        "##Which ML models are used?"
      ],
      "metadata": {
        "id": "y5GD3ZbRiKkK"
      }
    },
    {
      "cell_type": "markdown",
      "source": [
        "As I researched different Machine Learning models for the breast cancer dataset, it appears that Logistic Regression, Decision Tree Classifier and Random Forest Classifier might suited for this dataset"
      ],
      "metadata": {
        "id": "bna_kcKlidfs"
      }
    },
    {
      "cell_type": "markdown",
      "source": [
        "##which ML model is best suited for given data set\n"
      ],
      "metadata": {
        "id": "6A_8tdTvlFGE"
      }
    },
    {
      "cell_type": "markdown",
      "source": [
        "The  breast cancer is a high-dimensions dataset. Among the ML models as i see the Random forest algorithm gives the high accurate value and also used to solve binary classification problems like the breast cancer dataset.\n"
      ],
      "metadata": {
        "id": "GcwND3selmlD"
      }
    },
    {
      "cell_type": "code",
      "source": [
        "#loading brest cancer data set from sklearn\n",
        "import sklearn.datasets\n",
        "breast_cancer=sklearn.datasets.load_breast_cancer()"
      ],
      "metadata": {
        "id": "2plWf_Ri9sHT"
      },
      "execution_count": null,
      "outputs": []
    },
    {
      "cell_type": "code",
      "source": [
        "x=breast_cancer.data\n",
        "y=breast_cancer.target"
      ],
      "metadata": {
        "id": "L7qEKFt5_llU"
      },
      "execution_count": null,
      "outputs": []
    },
    {
      "cell_type": "code",
      "source": [
        "#creating a data frame\n",
        "import pandas as pd\n",
        "data=pd.DataFrame(breast_cancer.data, columns=breast_cancer.feature_names)"
      ],
      "metadata": {
        "id": "2NU9ZRCoAcnS"
      },
      "execution_count": null,
      "outputs": []
    },
    {
      "cell_type": "code",
      "source": [
        "data['class']=breast_cancer.target"
      ],
      "metadata": {
        "id": "iUAtZc36BpAW"
      },
      "execution_count": null,
      "outputs": []
    },
    {
      "cell_type": "code",
      "source": [
        "# we will provide x as input value and y as output value for all these ML models which are given below \n",
        "x=data.drop('class',axis=1)\n",
        "y=data['class']"
      ],
      "metadata": {
        "id": "l8eE1wbYNNpa"
      },
      "execution_count": null,
      "outputs": []
    },
    {
      "cell_type": "markdown",
      "source": [
        "#Test train split"
      ],
      "metadata": {
        "id": "VfGoiCeMFnTb"
      }
    },
    {
      "cell_type": "markdown",
      "source": [
        "To train the model we need to provide input and also output values, we have both the values as x and y, After training we need to test the model to find the best out of these models for the given data set, So we have divided our data set using 'Test train split' model\n"
      ],
      "metadata": {
        "id": "0SnIArZqv6SA"
      }
    },
    {
      "cell_type": "code",
      "source": [
        "from sklearn.model_selection import train_test_split"
      ],
      "metadata": {
        "id": "I1q-76tinWYb"
      },
      "execution_count": null,
      "outputs": []
    },
    {
      "cell_type": "code",
      "source": [
        "x_train,x_test,y_train,y_test = train_test_split(x,y,test_size=0.30,random_state=0,stratify=y)"
      ],
      "metadata": {
        "id": "g7TYrJvTE_78"
      },
      "execution_count": null,
      "outputs": []
    },
    {
      "cell_type": "markdown",
      "source": [
        "#Logistic Regression"
      ],
      "metadata": {
        "id": "jUONhW1dmZ80"
      }
    },
    {
      "cell_type": "markdown",
      "source": [
        "##Experiment 1 -  logistic regresion\n"
      ],
      "metadata": {
        "id": "3VZsonarbe-G"
      }
    },
    {
      "cell_type": "markdown",
      "source": [
        "\"As I researched different machine learning models and checked the breast cancer dataset, it appears that logistic regression might also suited for this dataset. Because, we are providing numerical input data, and logistic regression also takes numerical input. The output we need is in the form of binary (benign or malignant (0 or 1)), and logistic regression provides a binary output as well.\"\n"
      ],
      "metadata": {
        "id": "sZSJVXXrbnO7"
      }
    },
    {
      "cell_type": "code",
      "source": [
        "from sklearn.linear_model import LogisticRegression"
      ],
      "metadata": {
        "id": "-lGoScd7PM1R"
      },
      "execution_count": null,
      "outputs": []
    },
    {
      "cell_type": "code",
      "source": [
        "log_model=LogisticRegression()\n",
        "log_model.fit(x_train,y_train)"
      ],
      "metadata": {
        "colab": {
          "base_uri": "https://localhost:8080/",
          "height": 74
        },
        "id": "W84q1iKMPMoY",
        "outputId": "7af40bab-da45-4195-e9a4-4f7226077e74"
      },
      "execution_count": null,
      "outputs": [
        {
          "output_type": "execute_result",
          "data": {
            "text/plain": [
              "LogisticRegression()"
            ],
            "text/html": [
              "<style>#sk-container-id-2 {color: black;background-color: white;}#sk-container-id-2 pre{padding: 0;}#sk-container-id-2 div.sk-toggleable {background-color: white;}#sk-container-id-2 label.sk-toggleable__label {cursor: pointer;display: block;width: 100%;margin-bottom: 0;padding: 0.3em;box-sizing: border-box;text-align: center;}#sk-container-id-2 label.sk-toggleable__label-arrow:before {content: \"▸\";float: left;margin-right: 0.25em;color: #696969;}#sk-container-id-2 label.sk-toggleable__label-arrow:hover:before {color: black;}#sk-container-id-2 div.sk-estimator:hover label.sk-toggleable__label-arrow:before {color: black;}#sk-container-id-2 div.sk-toggleable__content {max-height: 0;max-width: 0;overflow: hidden;text-align: left;background-color: #f0f8ff;}#sk-container-id-2 div.sk-toggleable__content pre {margin: 0.2em;color: black;border-radius: 0.25em;background-color: #f0f8ff;}#sk-container-id-2 input.sk-toggleable__control:checked~div.sk-toggleable__content {max-height: 200px;max-width: 100%;overflow: auto;}#sk-container-id-2 input.sk-toggleable__control:checked~label.sk-toggleable__label-arrow:before {content: \"▾\";}#sk-container-id-2 div.sk-estimator input.sk-toggleable__control:checked~label.sk-toggleable__label {background-color: #d4ebff;}#sk-container-id-2 div.sk-label input.sk-toggleable__control:checked~label.sk-toggleable__label {background-color: #d4ebff;}#sk-container-id-2 input.sk-hidden--visually {border: 0;clip: rect(1px 1px 1px 1px);clip: rect(1px, 1px, 1px, 1px);height: 1px;margin: -1px;overflow: hidden;padding: 0;position: absolute;width: 1px;}#sk-container-id-2 div.sk-estimator {font-family: monospace;background-color: #f0f8ff;border: 1px dotted black;border-radius: 0.25em;box-sizing: border-box;margin-bottom: 0.5em;}#sk-container-id-2 div.sk-estimator:hover {background-color: #d4ebff;}#sk-container-id-2 div.sk-parallel-item::after {content: \"\";width: 100%;border-bottom: 1px solid gray;flex-grow: 1;}#sk-container-id-2 div.sk-label:hover label.sk-toggleable__label {background-color: #d4ebff;}#sk-container-id-2 div.sk-serial::before {content: \"\";position: absolute;border-left: 1px solid gray;box-sizing: border-box;top: 0;bottom: 0;left: 50%;z-index: 0;}#sk-container-id-2 div.sk-serial {display: flex;flex-direction: column;align-items: center;background-color: white;padding-right: 0.2em;padding-left: 0.2em;position: relative;}#sk-container-id-2 div.sk-item {position: relative;z-index: 1;}#sk-container-id-2 div.sk-parallel {display: flex;align-items: stretch;justify-content: center;background-color: white;position: relative;}#sk-container-id-2 div.sk-item::before, #sk-container-id-2 div.sk-parallel-item::before {content: \"\";position: absolute;border-left: 1px solid gray;box-sizing: border-box;top: 0;bottom: 0;left: 50%;z-index: -1;}#sk-container-id-2 div.sk-parallel-item {display: flex;flex-direction: column;z-index: 1;position: relative;background-color: white;}#sk-container-id-2 div.sk-parallel-item:first-child::after {align-self: flex-end;width: 50%;}#sk-container-id-2 div.sk-parallel-item:last-child::after {align-self: flex-start;width: 50%;}#sk-container-id-2 div.sk-parallel-item:only-child::after {width: 0;}#sk-container-id-2 div.sk-dashed-wrapped {border: 1px dashed gray;margin: 0 0.4em 0.5em 0.4em;box-sizing: border-box;padding-bottom: 0.4em;background-color: white;}#sk-container-id-2 div.sk-label label {font-family: monospace;font-weight: bold;display: inline-block;line-height: 1.2em;}#sk-container-id-2 div.sk-label-container {text-align: center;}#sk-container-id-2 div.sk-container {/* jupyter's `normalize.less` sets `[hidden] { display: none; }` but bootstrap.min.css set `[hidden] { display: none !important; }` so we also need the `!important` here to be able to override the default hidden behavior on the sphinx rendered scikit-learn.org. See: https://github.com/scikit-learn/scikit-learn/issues/21755 */display: inline-block !important;position: relative;}#sk-container-id-2 div.sk-text-repr-fallback {display: none;}</style><div id=\"sk-container-id-2\" class=\"sk-top-container\"><div class=\"sk-text-repr-fallback\"><pre>LogisticRegression()</pre><b>In a Jupyter environment, please rerun this cell to show the HTML representation or trust the notebook. <br />On GitHub, the HTML representation is unable to render, please try loading this page with nbviewer.org.</b></div><div class=\"sk-container\" hidden><div class=\"sk-item\"><div class=\"sk-estimator sk-toggleable\"><input class=\"sk-toggleable__control sk-hidden--visually\" id=\"sk-estimator-id-2\" type=\"checkbox\" checked><label for=\"sk-estimator-id-2\" class=\"sk-toggleable__label sk-toggleable__label-arrow\">LogisticRegression</label><div class=\"sk-toggleable__content\"><pre>LogisticRegression()</pre></div></div></div></div></div>"
            ]
          },
          "metadata": {},
          "execution_count": 63
        }
      ]
    },
    {
      "cell_type": "code",
      "source": [
        "y_pred=log_model.predict(x_test)"
      ],
      "metadata": {
        "id": "D_mShFt0PMbW"
      },
      "execution_count": null,
      "outputs": []
    },
    {
      "cell_type": "code",
      "source": [
        "from sklearn.metrics import confusion_matrix,accuracy_score"
      ],
      "metadata": {
        "id": "cvQ5jIfyPMBL"
      },
      "execution_count": null,
      "outputs": []
    },
    {
      "cell_type": "code",
      "source": [
        "confusion_matrix(y_test,y_pred),accuracy_score(y_test,y_pred)"
      ],
      "metadata": {
        "id": "G8MgS81dPLzn",
        "colab": {
          "base_uri": "https://localhost:8080/"
        },
        "outputId": "c15b4a12-fbc3-4e51-f4c5-f7cfe08ef377"
      },
      "execution_count": null,
      "outputs": [
        {
          "output_type": "execute_result",
          "data": {
            "text/plain": [
              "(array([[ 56,   8],\n",
              "        [  5, 102]]),\n",
              " 0.9239766081871345)"
            ]
          },
          "metadata": {},
          "execution_count": 66
        }
      ]
    },
    {
      "cell_type": "markdown",
      "source": [
        "#Experiment 2 - Decision tree classifier"
      ],
      "metadata": {
        "id": "t-QHiO8_msTJ"
      }
    },
    {
      "cell_type": "markdown",
      "source": [
        "Decision tree classifier is a supervised learning algorithm used for predicting a categorical output variable based on one or more input variables.\n",
        "The advantage of decision trees is that they are easy to interpret and visualize, and they can handle both categorical and numerical data. However, they can suffer from overfitting if the tree is too complex and does not generalize well to new data."
      ],
      "metadata": {
        "id": "rfJRUpXNAfcq"
      }
    },
    {
      "cell_type": "code",
      "source": [
        "from sklearn.tree import DecisionTreeClassifier\n",
        "x_train,x_test,y_train,y_test=train_test_split(x,y,test_size=0.35,random_state=0,stratify=y)"
      ],
      "metadata": {
        "id": "MjF1AfIBseiV"
      },
      "execution_count": null,
      "outputs": []
    },
    {
      "cell_type": "code",
      "source": [
        "my_tree=DecisionTreeClassifier()\n",
        "my_tree.fit(x_train,y_train)\n",
        "y_pred=my_tree.predict(x_test)"
      ],
      "metadata": {
        "id": "QKWVht9-K9iV"
      },
      "execution_count": null,
      "outputs": []
    },
    {
      "cell_type": "code",
      "source": [
        "confusion_matrix(y_test,y_pred),accuracy_score(y_test,y_pred)"
      ],
      "metadata": {
        "colab": {
          "base_uri": "https://localhost:8080/"
        },
        "id": "9dRwjw6jLtFD",
        "outputId": "ffe8fc37-02d0-4a09-a519-d8825f2b786e"
      },
      "execution_count": null,
      "outputs": [
        {
          "output_type": "execute_result",
          "data": {
            "text/plain": [
              "(array([[ 68,   7],\n",
              "        [  8, 117]]),\n",
              " 0.925)"
            ]
          },
          "metadata": {},
          "execution_count": 72
        }
      ]
    },
    {
      "cell_type": "markdown",
      "source": [
        "##Experiment 3 - Random Forest Classifier"
      ],
      "metadata": {
        "id": "TgwQfUwVm6nC"
      }
    },
    {
      "cell_type": "markdown",
      "source": [
        "Random forest is a versatile machine learning algorithm that can be used for both classification and regression problems.\n",
        "Random forest is an ensemble learning method we create a random forest classifier model using the RandomForestClassifier class and fit the model to the training data using the fit method. We then use the predict method to make predictions on the test data and calculate the accuracy of the model using the accuracy_score function."
      ],
      "metadata": {
        "id": "4VTAgkJs_GGc"
      }
    },
    {
      "cell_type": "code",
      "source": [
        "from sklearn.ensemble import RandomForestClassifier\n",
        "rf=RandomForestClassifier()\n",
        "rf.fit(x_train,y_train)"
      ],
      "metadata": {
        "colab": {
          "base_uri": "https://localhost:8080/",
          "height": 74
        },
        "id": "bNWEAC11PRdj",
        "outputId": "e20b492b-dd0c-41a0-b2fc-c906fefa9e2a"
      },
      "execution_count": null,
      "outputs": [
        {
          "output_type": "execute_result",
          "data": {
            "text/plain": [
              "RandomForestClassifier()"
            ],
            "text/html": [
              "<style>#sk-container-id-3 {color: black;background-color: white;}#sk-container-id-3 pre{padding: 0;}#sk-container-id-3 div.sk-toggleable {background-color: white;}#sk-container-id-3 label.sk-toggleable__label {cursor: pointer;display: block;width: 100%;margin-bottom: 0;padding: 0.3em;box-sizing: border-box;text-align: center;}#sk-container-id-3 label.sk-toggleable__label-arrow:before {content: \"▸\";float: left;margin-right: 0.25em;color: #696969;}#sk-container-id-3 label.sk-toggleable__label-arrow:hover:before {color: black;}#sk-container-id-3 div.sk-estimator:hover label.sk-toggleable__label-arrow:before {color: black;}#sk-container-id-3 div.sk-toggleable__content {max-height: 0;max-width: 0;overflow: hidden;text-align: left;background-color: #f0f8ff;}#sk-container-id-3 div.sk-toggleable__content pre {margin: 0.2em;color: black;border-radius: 0.25em;background-color: #f0f8ff;}#sk-container-id-3 input.sk-toggleable__control:checked~div.sk-toggleable__content {max-height: 200px;max-width: 100%;overflow: auto;}#sk-container-id-3 input.sk-toggleable__control:checked~label.sk-toggleable__label-arrow:before {content: \"▾\";}#sk-container-id-3 div.sk-estimator input.sk-toggleable__control:checked~label.sk-toggleable__label {background-color: #d4ebff;}#sk-container-id-3 div.sk-label input.sk-toggleable__control:checked~label.sk-toggleable__label {background-color: #d4ebff;}#sk-container-id-3 input.sk-hidden--visually {border: 0;clip: rect(1px 1px 1px 1px);clip: rect(1px, 1px, 1px, 1px);height: 1px;margin: -1px;overflow: hidden;padding: 0;position: absolute;width: 1px;}#sk-container-id-3 div.sk-estimator {font-family: monospace;background-color: #f0f8ff;border: 1px dotted black;border-radius: 0.25em;box-sizing: border-box;margin-bottom: 0.5em;}#sk-container-id-3 div.sk-estimator:hover {background-color: #d4ebff;}#sk-container-id-3 div.sk-parallel-item::after {content: \"\";width: 100%;border-bottom: 1px solid gray;flex-grow: 1;}#sk-container-id-3 div.sk-label:hover label.sk-toggleable__label {background-color: #d4ebff;}#sk-container-id-3 div.sk-serial::before {content: \"\";position: absolute;border-left: 1px solid gray;box-sizing: border-box;top: 0;bottom: 0;left: 50%;z-index: 0;}#sk-container-id-3 div.sk-serial {display: flex;flex-direction: column;align-items: center;background-color: white;padding-right: 0.2em;padding-left: 0.2em;position: relative;}#sk-container-id-3 div.sk-item {position: relative;z-index: 1;}#sk-container-id-3 div.sk-parallel {display: flex;align-items: stretch;justify-content: center;background-color: white;position: relative;}#sk-container-id-3 div.sk-item::before, #sk-container-id-3 div.sk-parallel-item::before {content: \"\";position: absolute;border-left: 1px solid gray;box-sizing: border-box;top: 0;bottom: 0;left: 50%;z-index: -1;}#sk-container-id-3 div.sk-parallel-item {display: flex;flex-direction: column;z-index: 1;position: relative;background-color: white;}#sk-container-id-3 div.sk-parallel-item:first-child::after {align-self: flex-end;width: 50%;}#sk-container-id-3 div.sk-parallel-item:last-child::after {align-self: flex-start;width: 50%;}#sk-container-id-3 div.sk-parallel-item:only-child::after {width: 0;}#sk-container-id-3 div.sk-dashed-wrapped {border: 1px dashed gray;margin: 0 0.4em 0.5em 0.4em;box-sizing: border-box;padding-bottom: 0.4em;background-color: white;}#sk-container-id-3 div.sk-label label {font-family: monospace;font-weight: bold;display: inline-block;line-height: 1.2em;}#sk-container-id-3 div.sk-label-container {text-align: center;}#sk-container-id-3 div.sk-container {/* jupyter's `normalize.less` sets `[hidden] { display: none; }` but bootstrap.min.css set `[hidden] { display: none !important; }` so we also need the `!important` here to be able to override the default hidden behavior on the sphinx rendered scikit-learn.org. See: https://github.com/scikit-learn/scikit-learn/issues/21755 */display: inline-block !important;position: relative;}#sk-container-id-3 div.sk-text-repr-fallback {display: none;}</style><div id=\"sk-container-id-3\" class=\"sk-top-container\"><div class=\"sk-text-repr-fallback\"><pre>RandomForestClassifier()</pre><b>In a Jupyter environment, please rerun this cell to show the HTML representation or trust the notebook. <br />On GitHub, the HTML representation is unable to render, please try loading this page with nbviewer.org.</b></div><div class=\"sk-container\" hidden><div class=\"sk-item\"><div class=\"sk-estimator sk-toggleable\"><input class=\"sk-toggleable__control sk-hidden--visually\" id=\"sk-estimator-id-3\" type=\"checkbox\" checked><label for=\"sk-estimator-id-3\" class=\"sk-toggleable__label sk-toggleable__label-arrow\">RandomForestClassifier</label><div class=\"sk-toggleable__content\"><pre>RandomForestClassifier()</pre></div></div></div></div></div>"
            ]
          },
          "metadata": {},
          "execution_count": 73
        }
      ]
    },
    {
      "cell_type": "code",
      "source": [
        "y_pred=rf.predict(x_test)"
      ],
      "metadata": {
        "id": "O8vVWkJ1RO13"
      },
      "execution_count": null,
      "outputs": []
    },
    {
      "cell_type": "code",
      "source": [
        "confusion_matrix(y_test,y_pred),accuracy_score(y_test,y_pred)"
      ],
      "metadata": {
        "colab": {
          "base_uri": "https://localhost:8080/"
        },
        "id": "nQ1LPnruRaSZ",
        "outputId": "d3715902-5c07-49b6-8471-ac297ce37121"
      },
      "execution_count": null,
      "outputs": [
        {
          "output_type": "execute_result",
          "data": {
            "text/plain": [
              "(array([[ 69,   6],\n",
              "        [  4, 121]]),\n",
              " 0.95)"
            ]
          },
          "metadata": {},
          "execution_count": 75
        }
      ]
    },
    {
      "cell_type": "markdown",
      "source": [
        "## Conclusion "
      ],
      "metadata": {
        "id": "tHOA0QCDXyqh"
      }
    },
    {
      "cell_type": "markdown",
      "source": [
        "After comparing these three machine learning models, we get accuracy as\n",
        "\n",
        "Logistic Regression        - '0.923'\n",
        "\n",
        "Desission Tree Calssifier  - '0.925'\n",
        "\n",
        "Random Forest classifier   - '0.95'\n",
        "\n",
        "So,we can conclude that the Random Forest Classifier model provides greater accuracy than the other models for the breast cancer dataset."
      ],
      "metadata": {
        "id": "-4ZkKQ4FX3h3"
      }
    },
    {
      "cell_type": "code",
      "source": [],
      "metadata": {
        "id": "n7WW66dnd9jv"
      },
      "execution_count": null,
      "outputs": []
    }
  ]
}